{
 "cells": [
  {
   "cell_type": "code",
   "execution_count": 1,
   "metadata": {},
   "outputs": [],
   "source": [
    "import pandas as pd\n",
    "import numpy as np\n",
    "import os\n",
    "import sys\n",
    "import traceback\n",
    "\n",
    "import matplotlib\n",
    "import matplotlib.pyplot as plt\n",
    "from matplotlib.patches import Rectangle\n",
    "from skimage.transform import resize\n",
    "from sklearn.model_selection import train_test_split\n",
    "\n",
    "import pickle\n",
    "from tqdm import tqdm\n",
    "import pydicom\n",
    "import cv2\n",
    "import glob, pylab\n",
    "\n",
    "import PIL\n",
    "from tensorflow.keras.models import Sequential\n",
    "from tensorflow.keras.layers import Input,GlobalAveragePooling2D, ZeroPadding2D, Convolution2D, Conv2DTranspose, MaxPooling2D, BatchNormalization, Dense, Dropout, Flatten, Activation \n",
    "from tensorflow.keras.layers import concatenate, add\n",
    "from tensorflow.keras.callbacks import EarlyStopping, ModelCheckpoint, ReduceLROnPlateau\n",
    "from tensorflow.keras.optimizers import Adam\n",
    "from tensorflow.keras.losses import binary_crossentropy\n",
    "\n",
    "from tensorflow.keras.applications.imagenet_utils import decode_predictions \n",
    "from tensorflow.keras.applications.resnet50 import ResNet50 \n",
    "from tensorflow.keras.applications import resnet50\n",
    "from tensorflow.keras.applications import MobileNet, VGG16, ResNet50\n",
    "from tensorflow.keras.applications.inception_v3 import InceptionV3\n",
    "from tensorflow.keras.models import Model,load_model\n",
    "from tensorflow.keras.applications.mobilenet import preprocess_input"
   ]
  },
  {
   "cell_type": "code",
   "execution_count": 64,
   "metadata": {},
   "outputs": [
    {
     "name": "stdout",
     "output_type": "stream",
     "text": [
      "./container\\input/data/stage_2_train_images/\n",
      "./container\\input/data/stage_2_train_labels.csv\n"
     ]
    }
   ],
   "source": [
    "prefix = './container'\n",
    "\n",
    "IMG_ACTUAL_SIZE = 1024\n",
    "input_path = os.path.join(prefix, 'input/data/')\n",
    "output_path = os.path.join(prefix, 'output/')\n",
    "model_path = os.path.join(prefix, 'model/')\n",
    "\n",
    "training_path = os.path.join(input_path, 'stage_2_train_images/')\n",
    "training_labels_path = input_path + 'stage_2_train_labels.csv'\n",
    "\n",
    "print(training_path)\n",
    "print(training_labels_path)"
   ]
  },
  {
   "cell_type": "code",
   "execution_count": 80,
   "metadata": {},
   "outputs": [],
   "source": [
    "def create_model(X_train, y_train):\n",
    "    print('inside create_model')\n",
    "    classifier = load_model(os.path.join(model_path,'mobilenet_model.h5'))\n",
    "\n",
    "    # Compiling the MobileNet\n",
    "    classifier.compile(\n",
    "        optimizer='Adam',\n",
    "        loss='categorical_crossentropy',\n",
    "        metrics=['accuracy']\n",
    "    )\n",
    "\n",
    "    # declare the callbacks\n",
    "    callbacks = [\n",
    "        EarlyStopping(patience=10, verbose=1),\n",
    "        ReduceLROnPlateau(factor=0.1, patience=5, min_lr=0.00001, verbose=1),\n",
    "#         ModelCheckpoint(os.path.join(model_path,'model-classification.h5'), verbose=1, save_best_only=True, save_weights_only=True)\n",
    "    ]\n",
    "    # Fit gridsearch to training set\n",
    "    history = classifier.fit(\n",
    "        X_train,\n",
    "        y_train,\n",
    "        batch_size=100, \n",
    "        epochs=1, \n",
    "        callbacks=callbacks,\n",
    "        validation_split = 0.2\n",
    "    )\n",
    "    return classifier, history"
   ]
  },
  {
   "cell_type": "code",
   "execution_count": 4,
   "metadata": {},
   "outputs": [],
   "source": [
    "# method to prepare training data and labels    \n",
    "def prepare_data(data,img_width,img_height):\n",
    "    print('inside prepare_data')\n",
    "#     X_train = []\n",
    "#     y_train = []\n",
    "    X_train = np.zeros((len(data),img_width,img_height,3), dtype=np.float32)\n",
    "    y_train = np.zeros((len(data),2), dtype=np.float32)\n",
    "    index=0\n",
    "    for key in data:\n",
    "        img = load_image(data[key]['image_path'],img_width,img_height)\n",
    "        label = data[key]['target']\n",
    "        if label == 1:\n",
    "            encoded_label = [1,0]\n",
    "        else:\n",
    "            encoded_label = [0,1]\n",
    "#         X_train.append(img)\n",
    "#         y_train.append(encoded_label)\n",
    "        X_train[index] = img\n",
    "        y_train[index] = encoded_label\n",
    "        index += 1\n",
    "    print('training data processed==>'+str(X_train.shape))\n",
    "    print('validation data processed==>'+str(y_train.shape))\n",
    "#     X_train = np.array(X_train)\n",
    "#     y_train = np.array(y_train)\n",
    "#     X_train = np.stack((X_train,) * 3, -1)\n",
    "    return X_train, y_train"
   ]
  },
  {
   "cell_type": "code",
   "execution_count": 5,
   "metadata": {},
   "outputs": [],
   "source": [
    "# method to load the image and read .dcm file using pydicom\n",
    "def load_image(image_path,img_width,img_height):\n",
    "#     print('inside load_image')\n",
    "    #this method helps in reading .dcm file\n",
    "    ds = pydicom.dcmread(image_path)\n",
    "    img = ds.pixel_array\n",
    "    #calling cv2.resize to reduce the dimension of image\n",
    "    res = cv2.resize(img, (img_width,img_height), interpolation=cv2.INTER_AREA)\n",
    "    #converting the image array data into float \n",
    "    res = res.astype(np.float32)/255\n",
    "    cv2.destroyAllWindows()\n",
    "    res = np.stack((res,) * 3, -1)\n",
    "    return res\n"
   ]
  },
  {
   "cell_type": "code",
   "execution_count": 6,
   "metadata": {},
   "outputs": [],
   "source": [
    "# draw an image with detected objects\n",
    "def draw_image_with_boxes(res, boxes_list,factor):\n",
    "#      print(boxes_list)\n",
    "     # plot the image\n",
    "     plt.imshow(res, cmap=plt.cm.bone)\n",
    "     # get the context for drawing boxes\n",
    "     ax = plt.gca()\n",
    "     # plot each box\n",
    "     for box in boxes_list:\n",
    "          # get coordinates\n",
    "            x1 = box[0]/factor\n",
    "            y1 = box[1]/factor\n",
    "            width = box[2]/factor\n",
    "            height = box[3]/factor\n",
    "            rect = Rectangle((x1,y1), width, height, ec='k', fc='none')\n",
    "            ax.add_patch(rect)\n",
    "     # show the plot\n",
    "     plt.show()"
   ]
  },
  {
   "cell_type": "code",
   "execution_count": 7,
   "metadata": {},
   "outputs": [],
   "source": [
    "# create a dictionary of metadata info from training labels file\n",
    "def create_dictionary(data):\n",
    "    print('inside create_dictionary')\n",
    "    metainfo = {}\n",
    "    for index, row in data.iterrows(): \n",
    "        patientid = row['patientId']\n",
    "        # print(patientid)\n",
    "        if patientid not in metainfo:\n",
    "            metainfo[patientid] = {\n",
    "                'target': row['Target'],\n",
    "                'bboxes': [],\n",
    "                'image_path': os.path.join(training_path,patientid + '.dcm')\n",
    "            }\n",
    "        if metainfo[patientid]['target'] == 1:\n",
    "            metainfo[patientid]['bboxes'].append([row['x'],row['y'],row['width'],row['height']])\n",
    "    return metainfo"
   ]
  },
  {
   "cell_type": "code",
   "execution_count": 13,
   "metadata": {},
   "outputs": [],
   "source": [
    "import boto3\n",
    "from botocore.exceptions import NoCredentialsError\n",
    "\n",
    "def upload_to_aws(local_file, bucket, s3_file):\n",
    "    s3 = boto3.client('s3')\n",
    "\n",
    "    try:\n",
    "        s3.upload_file(local_file, bucket, s3_file)\n",
    "        print(\"Upload Successful\")\n",
    "        return True\n",
    "    except FileNotFoundError:\n",
    "        print(\"The file was not found\")\n",
    "        return False\n",
    "    except NoCredentialsError:\n",
    "        print(\"Credentials not available\")\n",
    "        return False\n"
   ]
  },
  {
   "cell_type": "code",
   "execution_count": 93,
   "metadata": {},
   "outputs": [],
   "source": [
    "import boto3\n",
    "from tensorflow.keras.models import model_from_json\n",
    "def train():\n",
    "    print('Starting the training.')\n",
    "    model_name = ''\n",
    "    try:\n",
    "        print(os.listdir(\".\"))\n",
    "        df_train_labels = pd.read_csv(training_labels_path)\n",
    "        df_train_labels = df_train_labels.fillna(0) #data imputation replacing NAN values with 0s\n",
    "        metainfo = create_dictionary(df_train_labels)\n",
    "        X, y = prepare_data(metainfo,128,128)\n",
    "        classifier, history = create_model(X, y)\n",
    "        scores = classifier.evaluate(X, y, verbose=0)\n",
    "        print(\"%s: %.2f%%\" % (classifier.metrics_names[1], scores[1]*100))\n",
    "        # serialize model to JSON\n",
    "        model_json = classifier.to_json()\n",
    "        with open(\"model.json\", \"w\") as json_file:\n",
    "            json_file.write(model_json)\n",
    "        \n",
    "#         pickle.dump(classifier, open('./model/history-pneumonia-classification.pickle', 'wb'))\n",
    "#         print('model path=>',model_path)    \n",
    "#         local_file=model_path+\"model-classification.h5\"\n",
    "#         bucket = \"sagemaker-pneumonia-detection\"\n",
    "#         s3_file = \"model-classification.h5\"\n",
    "#         upload_to_aws(local_file, bucket, s3_file)\n",
    "        \n",
    "        print('Training is complete.')\n",
    "    except Exception as e:\n",
    "        # Write out an error file. This will be returned as the failure\n",
    "        # Reason in the DescribeTrainingJob result.\n",
    "        trc = traceback.format_exc()\n",
    "        with open(os.path.join(output_path, 'failure'), 'w') as s:\n",
    "            s.write('Exception during training: ' + str(e) + '\\n' + trc)\n",
    "        # Printing this causes the exception to be in the training job logs\n",
    "        print(\n",
    "            'Exception during training: ' + str(e) + '\\n' + trc,\n",
    "            file=sys.stderr)\n",
    "        # A non-zero exit code causes the training job to be marked as Failed.\n",
    "        sys.exit(255)\n",
    "    return history"
   ]
  },
  {
   "cell_type": "code",
   "execution_count": 94,
   "metadata": {},
   "outputs": [
    {
     "name": "stdout",
     "output_type": "stream",
     "text": [
      "Starting the training.\n",
      "['.git', '.ipynb_checkpoints', 'container', 'model.h5', 'Modular Code.ipynb', 'pneumonia-detection-sagemaker.ipynb', 'README.md']\n",
      "inside create_dictionary\n",
      "inside prepare_data\n",
      "training data processed==>(14, 128, 128, 3)\n",
      "validation data processed==>(14, 2)\n",
      "inside create_model\n",
      "Train on 11 samples, validate on 3 samples\n",
      "11/11 [==============================] - 3s 313ms/sample - loss: 4.6884e-04 - accuracy: 1.0000 - val_loss: 0.5113 - val_accuracy: 0.6667\n",
      "accuracy: 35.71%\n",
      "Training is complete.\n"
     ]
    }
   ],
   "source": [
    "history = train()"
   ]
  },
  {
   "cell_type": "code",
   "execution_count": 92,
   "metadata": {},
   "outputs": [
    {
     "data": {
      "image/png": "[encoded data removed]",
      "text/plain": [
       "<Figure size 1080x360 with 2 Axes>"
      ]
     },
     "metadata": {
      "needs_background": "light"
     },
     "output_type": "display_data"
    }
   ],
   "source": [
    "fig, (ax1, ax2) = plt.subplots(1,2,figsize=(15,5))\n",
    "fig.suptitle(\"Performance of MobileNet\")\n",
    "ax1.plot(history.history['accuracy'])\n",
    "ax1.plot(history.history['val_accuracy'])\n",
    "vline_cut = np.where(history.history['val_accuracy'] == np.max(history.history['val_accuracy']))[0][0]\n",
    "ax1.axvline(x=vline_cut, color='k', linestyle='--')\n",
    "ax1.set_title(\"Model Accuracy\")\n",
    "ax1.legend(['train', 'test'])\n",
    "\n",
    "ax2.plot(history.history['loss'])\n",
    "ax2.plot(history.history['val_loss'])\n",
    "vline_cut = np.where(history.history['val_loss'] == np.min(history.history['val_loss']))[0][0]\n",
    "ax2.axvline(x=vline_cut, color='k', linestyle='--')\n",
    "ax2.set_title(\"Model Loss\")\n",
    "ax2.legend(['train', 'test'])\n",
    "plt.show()"
   ]
  },
  {
   "cell_type": "code",
   "execution_count": 32,
   "metadata": {},
   "outputs": [],
   "source": [
    "s3 = boto3.client('s3')\n",
    "model = s3.download_file('sagemaker-pneumonia-detection','model-classification.h5','model.h5')"
   ]
  },
  {
   "cell_type": "code",
   "execution_count": 36,
   "metadata": {},
   "outputs": [
    {
     "name": "stdout",
     "output_type": "stream",
     "text": [
      "C:\\Kaustav\\Personal\\Studies\\Tech Stuff\\Great Learning\\Capstone Project\\rsna-pneumonia-detection-challenge\\AWS Sagemaker\\pneumonia-detection\\pneumonia-detection\n"
     ]
    }
   ],
   "source": [
    "import os\n",
    "print(os.getcwd())"
   ]
  },
  {
   "cell_type": "code",
   "execution_count": 37,
   "metadata": {},
   "outputs": [],
   "source": [
    "# method to load the image and read .dcm file using pydicom\n",
    "\n",
    "def load_image(image_path,img_width,img_height):\n",
    "    #this method helps in reading .dcm file\n",
    "    ds = pydicom.dcmread(image_path)\n",
    "    img = ds.pixel_array\n",
    "    #calling cv2.resize to reduce the dimension of image\n",
    "    res = cv2.resize(img, (img_width,img_height), interpolation=cv2.INTER_AREA)\n",
    "    #converting the image array data into float \n",
    "    res = res.astype(np.float32)/255\n",
    "    cv2.destroyAllWindows()\n",
    "#     print(type(res))\n",
    "    res = np.stack((res,) * 3, -1)\n",
    "    return res\n"
   ]
  },
  {
   "cell_type": "code",
   "execution_count": 42,
   "metadata": {},
   "outputs": [
    {
     "name": "stdout",
     "output_type": "stream",
     "text": [
      " Volume in drive C is Windows\n",
      " Volume Serial Number is E408-9919\n",
      "\n",
      " Directory of C:\\Kaustav\\Personal\\Studies\\Tech Stuff\\Great Learning\\Capstone Project\\rsna-pneumonia-detection-challenge\\AWS Sagemaker\\pneumonia-detection\\pneumonia-detection\n",
      "\n",
      "06/07/2020  10:44 PM    <DIR>          .\n",
      "06/07/2020  10:44 PM    <DIR>          ..\n",
      "06/07/2020  03:48 PM    <DIR>          .ipynb_checkpoints\n",
      "06/07/2020  03:48 PM    <DIR>          container\n",
      "06/07/2020  10:37 PM        23,894,216 model.h5\n",
      "06/07/2020  10:44 PM            18,096 Modular Code.ipynb\n",
      "06/06/2020  03:59 PM            43,329 pneumonia-detection-sagemaker.ipynb\n",
      "06/06/2020  12:15 PM               154 README.md\n",
      "               4 File(s)     23,955,795 bytes\n",
      "               4 Dir(s)  16,359,673,856 bytes free\n"
     ]
    }
   ],
   "source": [
    "%ls"
   ]
  },
  {
   "cell_type": "code",
   "execution_count": 74,
   "metadata": {},
   "outputs": [
    {
     "name": "stdout",
     "output_type": "stream",
     "text": [
      "C:\\Kaustav\\Personal\\Studies\\Tech Stuff\\Great Learning\\Capstone Project\\rsna-pneumonia-detection-challenge\\AWS Sagemaker\\pneumonia-detection\\pneumonia-detection\\container\\model\n",
      " Volume in drive C is Windows\n",
      " Volume Serial Number is E408-9919\n",
      "\n",
      " Directory of C:\\Kaustav\\Personal\\Studies\\Tech Stuff\\Great Learning\\Capstone Project\\rsna-pneumonia-detection-challenge\\AWS Sagemaker\\pneumonia-detection\\pneumonia-detection\\container\\model\n",
      "\n",
      "06/07/2020  03:52 PM    <DIR>          .\n",
      "06/07/2020  03:52 PM    <DIR>          ..\n",
      "06/02/2020  08:45 PM        23,939,720 mobilenet_model.h5\n",
      "06/08/2020  11:55 AM        23,893,968 model-classification.h5\n",
      "06/04/2020  11:55 PM        23,893,808 model-pneumonia-classification.h5\n",
      "               3 File(s)     71,727,496 bytes\n",
      "               2 Dir(s)  15,182,852,096 bytes free\n"
     ]
    },
    {
     "ename": "ValueError",
     "evalue": "No model found in config file.",
     "output_type": "error",
     "traceback": [
      "\u001b[1;31m---------------------------------------------------------------------------\u001b[0m",
      "\u001b[1;31mValueError\u001b[0m                                Traceback (most recent call last)",
      "\u001b[1;32m<ipython-input-74-95572b3517d7>\u001b[0m in \u001b[0;36m<module>\u001b[1;34m\u001b[0m\n\u001b[0;32m      4\u001b[0m \u001b[0mprint\u001b[0m\u001b[1;33m(\u001b[0m\u001b[0mos\u001b[0m\u001b[1;33m.\u001b[0m\u001b[0mgetcwd\u001b[0m\u001b[1;33m(\u001b[0m\u001b[1;33m)\u001b[0m\u001b[1;33m)\u001b[0m\u001b[1;33m\u001b[0m\u001b[1;33m\u001b[0m\u001b[0m\n\u001b[0;32m      5\u001b[0m \u001b[0mget_ipython\u001b[0m\u001b[1;33m(\u001b[0m\u001b[1;33m)\u001b[0m\u001b[1;33m.\u001b[0m\u001b[0mrun_line_magic\u001b[0m\u001b[1;33m(\u001b[0m\u001b[1;34m'ls'\u001b[0m\u001b[1;33m,\u001b[0m \u001b[1;34m''\u001b[0m\u001b[1;33m)\u001b[0m\u001b[1;33m\u001b[0m\u001b[1;33m\u001b[0m\u001b[0m\n\u001b[1;32m----> 6\u001b[1;33m \u001b[0mmobilenet_model_loaded\u001b[0m \u001b[1;33m=\u001b[0m \u001b[0mload_model\u001b[0m\u001b[1;33m(\u001b[0m\u001b[1;34m'model-classification.h5'\u001b[0m\u001b[1;33m)\u001b[0m\u001b[1;33m\u001b[0m\u001b[1;33m\u001b[0m\u001b[0m\n\u001b[0m\u001b[0;32m      7\u001b[0m \u001b[0mmobilenet_model_loaded\u001b[0m\u001b[1;33m.\u001b[0m\u001b[0msummary\u001b[0m\u001b[1;33m(\u001b[0m\u001b[1;33m)\u001b[0m\u001b[1;33m\u001b[0m\u001b[1;33m\u001b[0m\u001b[0m\n\u001b[0;32m      8\u001b[0m \u001b[0mos\u001b[0m\u001b[1;33m.\u001b[0m\u001b[0mchdir\u001b[0m\u001b[1;33m(\u001b[0m\u001b[1;34m'../../'\u001b[0m\u001b[1;33m)\u001b[0m\u001b[1;33m\u001b[0m\u001b[1;33m\u001b[0m\u001b[0m\n",
      "\u001b[1;32mC:\\ProgramData\\Anaconda3\\envs\\tensorflow_gpuenv\\lib\\site-packages\\tensorflow_core\\python\\keras\\saving\\save.py\u001b[0m in \u001b[0;36mload_model\u001b[1;34m(filepath, custom_objects, compile)\u001b[0m\n\u001b[0;32m    144\u001b[0m   if (h5py is not None and (\n\u001b[0;32m    145\u001b[0m       isinstance(filepath, h5py.File) or h5py.is_hdf5(filepath))):\n\u001b[1;32m--> 146\u001b[1;33m     \u001b[1;32mreturn\u001b[0m \u001b[0mhdf5_format\u001b[0m\u001b[1;33m.\u001b[0m\u001b[0mload_model_from_hdf5\u001b[0m\u001b[1;33m(\u001b[0m\u001b[0mfilepath\u001b[0m\u001b[1;33m,\u001b[0m \u001b[0mcustom_objects\u001b[0m\u001b[1;33m,\u001b[0m \u001b[0mcompile\u001b[0m\u001b[1;33m)\u001b[0m\u001b[1;33m\u001b[0m\u001b[1;33m\u001b[0m\u001b[0m\n\u001b[0m\u001b[0;32m    147\u001b[0m \u001b[1;33m\u001b[0m\u001b[0m\n\u001b[0;32m    148\u001b[0m   \u001b[1;32mif\u001b[0m \u001b[0misinstance\u001b[0m\u001b[1;33m(\u001b[0m\u001b[0mfilepath\u001b[0m\u001b[1;33m,\u001b[0m \u001b[0msix\u001b[0m\u001b[1;33m.\u001b[0m\u001b[0mstring_types\u001b[0m\u001b[1;33m)\u001b[0m\u001b[1;33m:\u001b[0m\u001b[1;33m\u001b[0m\u001b[1;33m\u001b[0m\u001b[0m\n",
      "\u001b[1;32mC:\\ProgramData\\Anaconda3\\envs\\tensorflow_gpuenv\\lib\\site-packages\\tensorflow_core\\python\\keras\\saving\\hdf5_format.py\u001b[0m in \u001b[0;36mload_model_from_hdf5\u001b[1;34m(filepath, custom_objects, compile)\u001b[0m\n\u001b[0;32m    163\u001b[0m     \u001b[0mmodel_config\u001b[0m \u001b[1;33m=\u001b[0m \u001b[0mf\u001b[0m\u001b[1;33m.\u001b[0m\u001b[0mattrs\u001b[0m\u001b[1;33m.\u001b[0m\u001b[0mget\u001b[0m\u001b[1;33m(\u001b[0m\u001b[1;34m'model_config'\u001b[0m\u001b[1;33m)\u001b[0m\u001b[1;33m\u001b[0m\u001b[1;33m\u001b[0m\u001b[0m\n\u001b[0;32m    164\u001b[0m     \u001b[1;32mif\u001b[0m \u001b[0mmodel_config\u001b[0m \u001b[1;32mis\u001b[0m \u001b[1;32mNone\u001b[0m\u001b[1;33m:\u001b[0m\u001b[1;33m\u001b[0m\u001b[1;33m\u001b[0m\u001b[0m\n\u001b[1;32m--> 165\u001b[1;33m       \u001b[1;32mraise\u001b[0m \u001b[0mValueError\u001b[0m\u001b[1;33m(\u001b[0m\u001b[1;34m'No model found in config file.'\u001b[0m\u001b[1;33m)\u001b[0m\u001b[1;33m\u001b[0m\u001b[1;33m\u001b[0m\u001b[0m\n\u001b[0m\u001b[0;32m    166\u001b[0m     \u001b[0mmodel_config\u001b[0m \u001b[1;33m=\u001b[0m \u001b[0mjson\u001b[0m\u001b[1;33m.\u001b[0m\u001b[0mloads\u001b[0m\u001b[1;33m(\u001b[0m\u001b[0mmodel_config\u001b[0m\u001b[1;33m.\u001b[0m\u001b[0mdecode\u001b[0m\u001b[1;33m(\u001b[0m\u001b[1;34m'utf-8'\u001b[0m\u001b[1;33m)\u001b[0m\u001b[1;33m)\u001b[0m\u001b[1;33m\u001b[0m\u001b[1;33m\u001b[0m\u001b[0m\n\u001b[0;32m    167\u001b[0m     model = model_config_lib.model_from_config(model_config,\n",
      "\u001b[1;31mValueError\u001b[0m: No model found in config file."
     ]
    }
   ],
   "source": [
    "from tensorflow.keras.models import Model,load_model\n",
    "\n",
    "os.chdir('./container/model')\n",
    "print(os.getcwd())\n",
    "%ls\n",
    "mobilenet_model_loaded = load_model('model-classification.h5')\n",
    "mobilenet_model_loaded.summary()"
   ]
  },
  {
   "cell_type": "code",
   "execution_count": 75,
   "metadata": {},
   "outputs": [
    {
     "name": "stdout",
     "output_type": "stream",
     "text": [
      "C:\\Kaustav\\Personal\\Studies\\Tech Stuff\\Great Learning\\Capstone Project\\rsna-pneumonia-detection-challenge\\AWS Sagemaker\\pneumonia-detection\\pneumonia-detection\n"
     ]
    }
   ],
   "source": [
    "os.chdir('../../')\n",
    "print(os.getcwd())"
   ]
  },
  {
   "cell_type": "code",
   "execution_count": 63,
   "metadata": {},
   "outputs": [
    {
     "name": "stdout",
     "output_type": "stream",
     "text": [
      "/container/model\\model-classification.h5\n"
     ]
    },
    {
     "ename": "ValueError",
     "evalue": "No model found in config file.",
     "output_type": "error",
     "traceback": [
      "\u001b[1;31m---------------------------------------------------------------------------\u001b[0m",
      "\u001b[1;31mValueError\u001b[0m                                Traceback (most recent call last)",
      "\u001b[1;32m<ipython-input-63-fb7b5e90af96>\u001b[0m in \u001b[0;36m<module>\u001b[1;34m\u001b[0m\n\u001b[0;32m      3\u001b[0m \u001b[0mmodel_path_1\u001b[0m \u001b[1;33m=\u001b[0m \u001b[0mos\u001b[0m\u001b[1;33m.\u001b[0m\u001b[0mpath\u001b[0m\u001b[1;33m.\u001b[0m\u001b[0mjoin\u001b[0m\u001b[1;33m(\u001b[0m\u001b[0mos\u001b[0m\u001b[1;33m.\u001b[0m\u001b[0mpath\u001b[0m\u001b[1;33m.\u001b[0m\u001b[0mjoin\u001b[0m\u001b[1;33m(\u001b[0m\u001b[1;34m'/container/model'\u001b[0m\u001b[1;33m,\u001b[0m\u001b[1;34m'model-classification.h5'\u001b[0m\u001b[1;33m)\u001b[0m\u001b[1;33m)\u001b[0m\u001b[1;33m\u001b[0m\u001b[1;33m\u001b[0m\u001b[0m\n\u001b[0;32m      4\u001b[0m \u001b[0mprint\u001b[0m\u001b[1;33m(\u001b[0m\u001b[0mmodel_path_1\u001b[0m\u001b[1;33m)\u001b[0m\u001b[1;33m\u001b[0m\u001b[1;33m\u001b[0m\u001b[0m\n\u001b[1;32m----> 5\u001b[1;33m \u001b[0mmobilenet_model_loaded\u001b[0m \u001b[1;33m=\u001b[0m \u001b[0mload_model\u001b[0m\u001b[1;33m(\u001b[0m\u001b[1;34m'model.h5'\u001b[0m\u001b[1;33m)\u001b[0m\u001b[1;33m\u001b[0m\u001b[1;33m\u001b[0m\u001b[0m\n\u001b[0m\u001b[0;32m      6\u001b[0m \u001b[1;31m# mobilenet_model_loaded.summary()\u001b[0m\u001b[1;33m\u001b[0m\u001b[1;33m\u001b[0m\u001b[1;33m\u001b[0m\u001b[0m\n",
      "\u001b[1;32mC:\\ProgramData\\Anaconda3\\envs\\tensorflow_gpuenv\\lib\\site-packages\\tensorflow_core\\python\\keras\\saving\\save.py\u001b[0m in \u001b[0;36mload_model\u001b[1;34m(filepath, custom_objects, compile)\u001b[0m\n\u001b[0;32m    144\u001b[0m   if (h5py is not None and (\n\u001b[0;32m    145\u001b[0m       isinstance(filepath, h5py.File) or h5py.is_hdf5(filepath))):\n\u001b[1;32m--> 146\u001b[1;33m     \u001b[1;32mreturn\u001b[0m \u001b[0mhdf5_format\u001b[0m\u001b[1;33m.\u001b[0m\u001b[0mload_model_from_hdf5\u001b[0m\u001b[1;33m(\u001b[0m\u001b[0mfilepath\u001b[0m\u001b[1;33m,\u001b[0m \u001b[0mcustom_objects\u001b[0m\u001b[1;33m,\u001b[0m \u001b[0mcompile\u001b[0m\u001b[1;33m)\u001b[0m\u001b[1;33m\u001b[0m\u001b[1;33m\u001b[0m\u001b[0m\n\u001b[0m\u001b[0;32m    147\u001b[0m \u001b[1;33m\u001b[0m\u001b[0m\n\u001b[0;32m    148\u001b[0m   \u001b[1;32mif\u001b[0m \u001b[0misinstance\u001b[0m\u001b[1;33m(\u001b[0m\u001b[0mfilepath\u001b[0m\u001b[1;33m,\u001b[0m \u001b[0msix\u001b[0m\u001b[1;33m.\u001b[0m\u001b[0mstring_types\u001b[0m\u001b[1;33m)\u001b[0m\u001b[1;33m:\u001b[0m\u001b[1;33m\u001b[0m\u001b[1;33m\u001b[0m\u001b[0m\n",
      "\u001b[1;32mC:\\ProgramData\\Anaconda3\\envs\\tensorflow_gpuenv\\lib\\site-packages\\tensorflow_core\\python\\keras\\saving\\hdf5_format.py\u001b[0m in \u001b[0;36mload_model_from_hdf5\u001b[1;34m(filepath, custom_objects, compile)\u001b[0m\n\u001b[0;32m    163\u001b[0m     \u001b[0mmodel_config\u001b[0m \u001b[1;33m=\u001b[0m \u001b[0mf\u001b[0m\u001b[1;33m.\u001b[0m\u001b[0mattrs\u001b[0m\u001b[1;33m.\u001b[0m\u001b[0mget\u001b[0m\u001b[1;33m(\u001b[0m\u001b[1;34m'model_config'\u001b[0m\u001b[1;33m)\u001b[0m\u001b[1;33m\u001b[0m\u001b[1;33m\u001b[0m\u001b[0m\n\u001b[0;32m    164\u001b[0m     \u001b[1;32mif\u001b[0m \u001b[0mmodel_config\u001b[0m \u001b[1;32mis\u001b[0m \u001b[1;32mNone\u001b[0m\u001b[1;33m:\u001b[0m\u001b[1;33m\u001b[0m\u001b[1;33m\u001b[0m\u001b[0m\n\u001b[1;32m--> 165\u001b[1;33m       \u001b[1;32mraise\u001b[0m \u001b[0mValueError\u001b[0m\u001b[1;33m(\u001b[0m\u001b[1;34m'No model found in config file.'\u001b[0m\u001b[1;33m)\u001b[0m\u001b[1;33m\u001b[0m\u001b[1;33m\u001b[0m\u001b[0m\n\u001b[0m\u001b[0;32m    166\u001b[0m     \u001b[0mmodel_config\u001b[0m \u001b[1;33m=\u001b[0m \u001b[0mjson\u001b[0m\u001b[1;33m.\u001b[0m\u001b[0mloads\u001b[0m\u001b[1;33m(\u001b[0m\u001b[0mmodel_config\u001b[0m\u001b[1;33m.\u001b[0m\u001b[0mdecode\u001b[0m\u001b[1;33m(\u001b[0m\u001b[1;34m'utf-8'\u001b[0m\u001b[1;33m)\u001b[0m\u001b[1;33m)\u001b[0m\u001b[1;33m\u001b[0m\u001b[1;33m\u001b[0m\u001b[0m\n\u001b[0;32m    167\u001b[0m     model = model_config_lib.model_from_config(model_config,\n",
      "\u001b[1;31mValueError\u001b[0m: No model found in config file."
     ]
    }
   ],
   "source": [
    "from tensorflow.keras.models import Model,load_model\n",
    "\n",
    "model_path_1 = os.path.join(os.path.join('/container/model','model-classification.h5'))\n",
    "print(model_path_1)\n",
    "mobilenet_model_loaded = load_model('model.h5')\n",
    "# mobilenet_model_loaded.summary()"
   ]
  },
  {
   "cell_type": "code",
   "execution_count": null,
   "metadata": {},
   "outputs": [],
   "source": []
  }
 ],
 "metadata": {
  "kernelspec": {
   "display_name": "Python 3",
   "language": "python",
   "name": "python3"
  },
  "language_info": {
   "codemirror_mode": {
    "name": "ipython",
    "version": 3
   },
   "file_extension": ".py",
   "mimetype": "text/x-python",
   "name": "python",
   "nbconvert_exporter": "python",
   "pygments_lexer": "ipython3",
   "version": "3.7.7"
  }
 },
 "nbformat": 4,
 "nbformat_minor": 4
}
